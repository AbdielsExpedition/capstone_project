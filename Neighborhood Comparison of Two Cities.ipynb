{
    "cells": [
        {
            "cell_type": "markdown",
            "metadata": {},
            "source": "# The Neighbourhood Comparison of Two Wonderful Cities: Istanbul and Toronto"
        },
        {
            "cell_type": "markdown",
            "metadata": {},
            "source": "## 1. Introduction"
        },
        {
            "cell_type": "markdown",
            "metadata": {
                "collapsed": true
            },
            "source": "As transportation technologies improve and get cheaper, traveling and living abroad have become popular in the last decade. While writing this introduction, 6100 flights are scheduled in the next 7 days from Istanbul to 111 different countries according to flightradar24.com. People who are scheduling their vacations are surfing from one travel blog to another in order to find information about the destinations. Therefore, I decided to make my Applied Data Science Capstone Project on the comparison of two cities with respect to their neighbourhood features and average accommodation prices. This starter-level project aims to target two kind of people. The first one is the people who are planning their travel and looking for an accommodation in a neighbourhood they expect and the second one is the people who decided to move abroad and looking for a long-term accommodation that matches with their hometowns. In that manner, this project contains the comparison of Istanbul and Toronto by using Foursquare and Airbnb data.\n\nHope you enjoy! \n"
        },
        {
            "cell_type": "markdown",
            "metadata": {},
            "source": "## 2. Data Section "
        },
        {
            "cell_type": "markdown",
            "metadata": {},
            "source": "The data sources for the comparison of two cities are listed below. \n    \n   1. Neighbourhood information of Toronto are obtained from the Wikipedia page by using a web scraping tool. Here: https://en.wikipedia.org/wiki/List_of_postal_codes_of_Canada:_M \n   2. Geospatial data of Toronto's neighbourhoods are obtained from the link that IBM Applied Data Science Capstone Project course shared. \n   3. Neighbourhood information of Istanbul are obtained by using an open source service. Details can be found here: https://github.com/melihkorkmaz/il-ilce-mahalle-geolocation-rest-api/blob/master/README.md#dataModel\n   4. ArcGIS library is used in order to get the geospatial data of Istanbul's neighbourhoods (geocoding).\n   5. The most common venues and related information are obtained from Foursquare API for both cities. Foursquare data are used for the neighbourhood clustering and shown on the city maps (folium map). \n   6. Average accommodation prices of neighbourhoods are calculated by using Inside Airbnb website which shares location and daily rent data. Choropleth maps are created by the average daily rent prices of the neigbourhoods.\n   7. USD/TRY exchange rate is obtained from Bloomberght Offical Website by using a web scraping tool.  \n    \nMore details about the data mentioned above can be found in the Notebook I shared.   "
        },
        {
            "cell_type": "markdown",
            "metadata": {},
            "source": "## 3. Methodology Section"
        },
        {
            "cell_type": "markdown",
            "metadata": {},
            "source": "This section includes details of data analysis and machine learning methods that are used in this project. All data analysis were made in IBM Watson Studio which offers a great coding environment. I used open data sources or data download links instead of creating a database. After getting the geospatial data of both cities from different sources, the postal codes, boroughs, neighbourhoods, latitudes, and longitudes were collected in a dataframe shown below as a data preparation process. "
        },
        {
            "cell_type": "markdown",
            "metadata": {},
            "source": "\n\n<tr>\n<td> <img src=\"https://i.ibb.co/bJ0R8Pj/Picture1-1.png\" alt=\"Drawing\" style=\"width: 500px;\"/> </td>\n<td> <img src=\"https://i.ibb.co/84DWKsy/Picture1-2.png\" alt=\"Drawing\" style=\"width: 450px;\"/> </td>\n</tr>\n\n\n\n"
        },
        {
            "cell_type": "markdown",
            "metadata": {},
            "source": "Folium's interactive leaflet map is used for the data visualizations. The map enables to mark the location points and create colored polygons with geojsons (called choropleth map). By using the dataframes above, Folium maps were created for each city. Each neighbourhood was marked with its location. "
        },
        {
            "cell_type": "markdown",
            "metadata": {},
            "source": "**Istanbul City Map**"
        },
        {
            "cell_type": "markdown",
            "metadata": {},
            "source": "<tr>\n<td><img src=\"https://i.ibb.co/gTcC1FN/Picture5.png\" alt=\"drawing\"/></td>\n</tr>"
        },
        {
            "cell_type": "markdown",
            "metadata": {},
            "source": "**Toronto City Map**"
        },
        {
            "cell_type": "markdown",
            "metadata": {},
            "source": "<tr>\n<td><img src=\"https://i.ibb.co/TbdfCBs/Picture4.png\" alt=\"drawing\"/></td>\n</tr>"
        },
        {
            "cell_type": "markdown",
            "metadata": {},
            "source": "Foursquare API's explore function was used with the geospatial information of neighbourhoods in both cities in order to obtain the venues data of a certain neigbourhood location. Unfortunately, the maximum number of venues you can get is 100 for a free Foursquare developer account. For each neighbourhood, venue's name, venue's category, latitude, and longitude data were obtained in json format and collected in a dataframe shown below. The table shows 5 venues' data for Besiktas Neighbourhood in Istanbul."
        },
        {
            "cell_type": "markdown",
            "metadata": {},
            "source": "<tr>\n<td><img src=\"https://i.ibb.co/WVhgnK7/Picture2.png\" alt=\"drawing\" width=\"500\"/></td>\n</tr>"
        },
        {
            "cell_type": "markdown",
            "metadata": {},
            "source": "Top ten most common venue categories for each neighbourhood are calculated and listed in a dataframe shown below. Average venue number by its category in a neighbourhood was taken into account for the calculation."
        },
        {
            "cell_type": "markdown",
            "metadata": {},
            "source": "<tr>\n<td><img src=\"https://i.ibb.co/mDDjc4z/mostcommon.png\" alt=\"drawing\"/></td> \n</tr>    "
        },
        {
            "cell_type": "markdown",
            "metadata": {},
            "source": "So far, we have location and the most common venues information for each neighbourhood of both cities. In order to categorize the neighbourhoods, K-Means Clustering ML method was used. Briefly, K-Means clustering is a common method to  cluster unsupervised data. Moreover, it is really easy to perform K-Means clustering on your prepared data by using Scikit learn library in Python. Before clustering, the number of clusters (called centroids or K number) for K-Means clustering should be decided. Therefore, I used the Elbow Method for a optimal K number and the graph is given below. \n\nHere is a helpful link for the determination of optimal K number: https://towardsdatascience.com/10-tips-for-choosing-the-optimal-number-of-clusters-277e93d72d92 \n\nFor more details for Sk learn: https://scikit-learn.org/stable/"
        },
        {
            "cell_type": "markdown",
            "metadata": {},
            "source": "<tr>\n<td><img src=\"https://i.ibb.co/wNDFK0t/elbow.png\" alt=\"drawing\" width=\"500\"/></td>\n</tr>"
        },
        {
            "cell_type": "markdown",
            "metadata": {},
            "source": "Unfortunately, the elbow method did not give me an exact appropriate K number. By looking at the graph, the number of clusters was chosen as 5 and the clustering performed by taking K=5. As a result, 5 different cluster of neighbourhood are obtained and the distribution of each cluster was examined. The results are shared in Results Section."
        },
        {
            "cell_type": "markdown",
            "metadata": {},
            "source": "After the clustering is done. Inside Airbnb data sets for both cities are used in order to get neighbourhood's average dailt rent prices. Then, colored polygons were created on the Folium maps in terms of the average rent prices. "
        },
        {
            "cell_type": "markdown",
            "metadata": {},
            "source": "The choropleth maps with colored markers according to clusters are shared in Results Section."
        },
        {
            "cell_type": "markdown",
            "metadata": {},
            "source": "## 4. Results Section"
        },
        {
            "cell_type": "markdown",
            "metadata": {},
            "source": "This section includes the results of the clustering process and data visualizations. "
        },
        {
            "cell_type": "markdown",
            "metadata": {},
            "source": "The distributions of three most common categories for each clusters are shown below with bar charts."
        },
        {
            "cell_type": "markdown",
            "metadata": {},
            "source": "**First cluster(cluster 0)** contains 9 different neighbourhoods and the most common categories are Park, Forest, and Mountain. "
        },
        {
            "cell_type": "markdown",
            "metadata": {},
            "source": "<tr>\n<td><img src=\"https://i.ibb.co/mJbfbSj/cluster1.jpg\" alt=\"drawing\" width=\"1000\"/></td>\n</tr>"
        },
        {
            "cell_type": "markdown",
            "metadata": {},
            "source": "**Second cluster(cluster 1)** contains 141 different neighbourhoods and the most common categories are Coffee Shop, Cafe, and Pizza Place. "
        },
        {
            "cell_type": "markdown",
            "metadata": {},
            "source": "<tr>\n<td><img src=\"https://i.ibb.co/y4v3JV2/cluster2.jpg\" alt=\"drawing\" width=\"1000\"/></td>\n</tr>"
        },
        {
            "cell_type": "markdown",
            "metadata": {},
            "source": "**Third cluster(cluster 2)** contains 7 different neighbourhoods and the most common categories are Farm, Trail, and \u00c7\u00f6p \u015ei\u015f Place (lol, I think these are Turkish). "
        },
        {
            "cell_type": "markdown",
            "metadata": {},
            "source": "<tr>\n<td><img src=\"https://i.ibb.co/QbJkfZm/cluster3.jpg\" alt=\"drawing\" width=\"1000\"/></td>\n</tr>"
        },
        {
            "cell_type": "markdown",
            "metadata": {},
            "source": "**Forth cluster(cluster 3)** contains 178 different neighbourhoods and the most common categories are Cafe, Turkish Restaurant, and Bakery."
        },
        {
            "cell_type": "markdown",
            "metadata": {},
            "source": "<tr>\n<td><img src=\"https://i.ibb.co/KGxFYHV/cluster4.jpg\" alt=\"drawing\" width=\"1000\"/></td>\n</tr>"
        },
        {
            "cell_type": "markdown",
            "metadata": {},
            "source": "**Fifth cluster(cluster 4)** contains only 1 neighbourhood and the most common categories are Coffee Shop, \u00c7\u00f6p \u015ei\u015f Place, and Field."
        },
        {
            "cell_type": "markdown",
            "metadata": {},
            "source": "<tr>\n<td><img src=\"https://i.ibb.co/BcTLNZM/cluster5.jpg\" alt=\"drawing\" width=\"1000\"/></td>\n</tr>"
        },
        {
            "cell_type": "markdown",
            "metadata": {},
            "source": "Colored markers by its cluster number are added to Folium maps for both cities. Each marker is labelled with neighbourhood name and cluster number. \n\nColor codes:\n* Cluster 0 - Red\n* Cluster 1 - Purple\n* Cluster 2 - Blue\n* Cluster 3 - Turquoise\n* Cluster 4 - Orange\n\n"
        },
        {
            "cell_type": "markdown",
            "metadata": {},
            "source": "**Istanbul City Map**"
        },
        {
            "cell_type": "markdown",
            "metadata": {},
            "source": "<tr>\n<td><img src=\"https://i.ibb.co/JRWr608/foliumclusterrrr.png\" alt=\"drawing\" width=\"1000\"/></td>\n</tr>"
        },
        {
            "cell_type": "markdown",
            "metadata": {},
            "source": "**Toronto City Map**"
        },
        {
            "cell_type": "markdown",
            "metadata": {},
            "source": "<tr>\n<td><img src=\"https://i.ibb.co/Ln4mNr5/foliumclsuter.png\" alt=\"drawing\" width=\"1000\"/></td>\n</tr>"
        },
        {
            "cell_type": "markdown",
            "metadata": {},
            "source": "With the average rent prices from Inside Airbnb Website, the colored polygons were added to the city maps. The color codes of the polygons were given as a bar on the map (upper-right)."
        },
        {
            "cell_type": "markdown",
            "metadata": {},
            "source": "**Istanbul City Map - Final**"
        },
        {
            "cell_type": "markdown",
            "metadata": {},
            "source": "<tr>\n<td><img src=\"https://i.ibb.co/yYPpQkw/Istanbul-Final.png\" alt=\"drawing\" width=\"1000\"/></td>\n</tr>\n"
        },
        {
            "cell_type": "markdown",
            "metadata": {},
            "source": "**Toronto City Map - Final**"
        },
        {
            "cell_type": "markdown",
            "metadata": {},
            "source": "<tr>\n<td><img src=\"https://i.ibb.co/ykFHrvH/Toronto-Final.png\" alt=\"drawing\" width=\"1000\"/></td>\n</tr>\n"
        },
        {
            "cell_type": "markdown",
            "metadata": {},
            "source": "## 5. Discussion"
        },
        {
            "cell_type": "markdown",
            "metadata": {},
            "source": "The cities were examined by two different parameters which are venues' common categories and average daily rent prices. The venues' common categories were obtained from Foursquare API and clustered by using K-Means Clustering. The number of clusters (K) was determined by using the elbow Method. The first discussion point is that the elbow method graph did not give a clear K number. Generally, elbow method graphs show a sharp difference between two neighbouring points and the optimal K number is chosen according to this sharp slope reduction. However, my graph does not have a clear sharp slope reduction between two neighbouring points and then I chose a relatively appropriate point. As a result, the fifth cluster has only one sample because of the number of clusters. Moreover, other methods like Silhouette or Gap Statistics methods for determining K number can be used. Another discussion point is that most of the neighbourhoods in Toronto placed in cluster 1, which means differentiation among them was not performed well. Clustering neighbourhoods with their venues was a good idea, but at the end, it can be clearly seen it is not sufficient for this analysis. More parameters can be found and added to diversify the neighbourhoods.\n\nThe average daily rent prices were obtained from Inside Airbnb datasets and they were used to point relatively expensive neighbourhoods. I am not familiar with the neighbourhoods in Toronto, but for Istanbul, some results are kind of misleading. House sale or annually rent prices can be also included for a better analysis. \n\nAs a result, this analysis suggests that if you are living in Caddebostan or Suadiye(cluster 1) in Istanbul, you might not feel stranger in Thorncliffe Park or Caledonia-Fairbanks(cluster 1) in Toronto in terms of venues and daily rent expensiveness. or vice versa.\n"
        },
        {
            "cell_type": "markdown",
            "metadata": {},
            "source": "## 6. Conlusion"
        },
        {
            "cell_type": "markdown",
            "metadata": {},
            "source": "This project aimed to show similar neighbourhoods of two different cities with the blessing of Machine Learning techniques and Python. Geospatial, venues, and daily rent data were used to examine both cities and 5 different neighbourhood clusters were obtained. Although satisfactory results were not gained, some conclusions can be drawn by looking at the final city maps. In addition, as long as getting geospatial data of a city, the project's codes can be applied without any significant changes.\n\nThis starter level project ends here. Hope you enjoyed :)\n\nEge"
        },
        {
            "cell_type": "code",
            "execution_count": null,
            "metadata": {},
            "outputs": [],
            "source": ""
        }
    ],
    "metadata": {
        "kernelspec": {
            "display_name": "Python 3.6",
            "language": "python",
            "name": "python3"
        },
        "language_info": {
            "codemirror_mode": {
                "name": "ipython",
                "version": 3
            },
            "file_extension": ".py",
            "mimetype": "text/x-python",
            "name": "python",
            "nbconvert_exporter": "python",
            "pygments_lexer": "ipython3",
            "version": "3.6.9"
        }
    },
    "nbformat": 4,
    "nbformat_minor": 1
}