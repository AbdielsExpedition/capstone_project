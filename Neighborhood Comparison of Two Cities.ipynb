{
    "cells": [
        {
            "cell_type": "markdown",
            "metadata": {},
            "source": "# The Neighborhood Comparison of Two Wonderful Cities: Istanbul and Toronto"
        },
        {
            "cell_type": "markdown",
            "metadata": {},
            "source": "## 1. Introduction"
        },
        {
            "cell_type": "markdown",
            "metadata": {
                "collapsed": true
            },
            "source": "As transportation technologies improve and get cheaper, traveling and living abroad have become popular in the last decade. While writing this introduction, 6100 flights are scheduled in the next 7 days from Istanbul to 111 different countries according to flightradar24.com. People who are scheduling their vacations are surfing from one travel blog to another in order to find information about the destinations. Therefore, I decided to make my Applied Data Science Capstone Project on the comparison of two cities with respect to their neighborhood features and average accommodation prices. This starter-level project aims to target two kind of people. The first one is the people who are planning their travel and looking for an accommodation in a neighborhood they expect and the second one is the people who decided to move abroad and looking for a long-term accommodation that matches with their hometowns. In that manner, this project contains the comparison of Istanbul and Toronto by using Foursquare and Airbnb data.\n"
        },
        {
            "cell_type": "markdown",
            "metadata": {},
            "source": "## 2. Data Section "
        },
        {
            "cell_type": "markdown",
            "metadata": {},
            "source": "The planned data sources for the comparison of two cities are listed below. \n    \n   1. Neighborhood information of Toronto will be obtained from the Wikipedia page by using a web scraping tool. \n   2. Geospatial data of both cities will be obtained from the Geocoder Python package. \n   3. The most common venues and related information will be obtained from Foursquare API for both cities. Foursquare data will be used for the neighborhood clustering and shown on the city maps. \n   4. Average accommodation prices of neighborhoods will be calculated by using Inside Airbnb website which shares location and daily rent data. Choropleth maps will be created by the average accommodation prices of the neigborhoods.\n    \n    "
        },
        {
            "cell_type": "code",
            "execution_count": null,
            "metadata": {},
            "outputs": [],
            "source": ""
        }
    ],
    "metadata": {
        "kernelspec": {
            "display_name": "Python 3.6",
            "language": "python",
            "name": "python3"
        },
        "language_info": {
            "codemirror_mode": {
                "name": "ipython",
                "version": 3
            },
            "file_extension": ".py",
            "mimetype": "text/x-python",
            "name": "python",
            "nbconvert_exporter": "python",
            "pygments_lexer": "ipython3",
            "version": "3.6.9"
        }
    },
    "nbformat": 4,
    "nbformat_minor": 1
}